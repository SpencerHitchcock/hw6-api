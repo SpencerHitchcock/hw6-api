{
 "cells": [
  {
   "cell_type": "code",
   "execution_count": 1,
   "metadata": {
    "scrolled": true
   },
   "outputs": [],
   "source": [
    "# Dependencies and Setup\n",
    "import matplotlib.pyplot as plt\n",
    "import pandas as pd\n",
    "import numpy as np\n",
    "import requests\n",
    "import time\n",
    "import json\n",
    "\n",
    "from config import api_key\n",
    "\n",
    "from citipy import citipy\n",
    "\n",
    "# Output File (CSV)\n",
    "output_data_file = \"out_cities.csv\"\n",
    "\n",
    "# Range of latitudes and longitudes\n",
    "lat_range = (-90, 90)\n",
    "lng_range = (-180, 180)\n",
    "\n",
    "ow_url=\"http://api.openweathermap.org/data/2.5/weather?units=Imperial\"\n"
   ]
  },
  {
   "cell_type": "code",
   "execution_count": 2,
   "metadata": {},
   "outputs": [
    {
     "data": {
      "text/plain": [
       "608"
      ]
     },
     "execution_count": 2,
     "metadata": {},
     "output_type": "execute_result"
    }
   ],
   "source": [
    "# List for holding lat_lngs and cities\n",
    "lat_lngs = []\n",
    "cities = []\n",
    "\n",
    "# Create a set of random lat and lng combinations\n",
    "lats = np.random.uniform(low=-90.000, high=90.000, size=1500)\n",
    "lngs = np.random.uniform(low=-180.000, high=180.000, size=1500)\n",
    "lat_lngs = zip(lats, lngs)\n",
    "\n",
    "# Identify nearest city for each lat, lng combination\n",
    "for lat_lng in lat_lngs:\n",
    "    city = citipy.nearest_city(lat_lng[0], lat_lng[1]).city_name\n",
    "    \n",
    "    # If the city is unique, then add it to a our cities list\n",
    "    if city not in cities:\n",
    "        cities.append(city)\n",
    "\n",
    "# Print the city count to confirm sufficient count\n",
    "len(cities)"
   ]
  },
  {
   "cell_type": "code",
   "execution_count": null,
   "metadata": {},
   "outputs": [],
   "source": [
    "\n",
    "url = \"http://api.openweathermap.org/data/2.5/weather?\"\n",
    "units = \"metric\"\n",
    "\n",
    "# Build partial query URL\n",
    "query_url = f\"{url}appid={api_key}&units={units}&q=\"\n",
    "\n",
    "# set up lists to hold reponse info\n",
    "lat = []\n",
    "temp = []\n",
    "humidity = []\n",
    "cloudiness = []\n",
    "windspeed = []\n",
    "name = []\n",
    "\n",
    "\n",
    "# Loop through the list of cities and perform a request for data on each\n",
    "for city in cities:\n",
    "    try:\n",
    "        response = requests.get(query_url + city).json()\n",
    "        lat.append(response['coord']['lat'])\n",
    "        temp.append(response['main']['temp'])\n",
    "        humidity.append(response['main']['humidity'])\n",
    "        cloudiness.append(response['clouds']['all'])\n",
    "        windspeed.append(response['wind']['speed'])\n",
    "        name.append(response[\"name\"])\n",
    "\n",
    "    except:\n",
    "        continue"
   ]
  },
  {
   "cell_type": "code",
   "execution_count": null,
   "metadata": {},
   "outputs": [],
   "source": [
    "# #Initial set of variables for log file\n",
    "# records=1\n",
    "# sets=1\n",
    "# print(\"Beginning Data Retrieval\")\n",
    "# print(\"-----------------------------\")\n",
    "# for city in cities:\n",
    "#     #api call\n",
    "#     weather_response=requests.get(ow_url+ \"&appid=\" + api_key + \"&q=\" + city)\n",
    "#     #check for response validity\n",
    "#     if weather_response.ok:\n",
    "#         weather_json=weather_response.json()\n",
    "#         print(\"Processing Record \"+ str(records) + \" of set \" + str(sets) + \" | \" + city)\n",
    "#         print(ow_url+ \"&appid=\" + api_key + \"&q=\" + city)\n",
    "#         #adding data to lists\n",
    "#         city2.append(city)\n",
    "#         cloudiness.append(weather_json[\"clouds\"][\"all\"])\n",
    "#         country.append(weather_json[\"sys\"][\"country\"])\n",
    "#         date.append(weather_json[\"dt\"])\n",
    "#         humidity.append(weather_json[\"main\"][\"humidity\"])\n",
    "#         lat.append(weather_json[\"coord\"][\"lat\"])\n",
    "#         lng.append(weather_json[\"coord\"][\"lon\"])\n",
    "#         maxTemp.append(weather_json[\"main\"][\"temp_max\"])\n",
    "#         windSpeed.append(weather_json[\"wind\"][\"speed\"])\n",
    "#         #counter for log file\n",
    "#         if records==50:\n",
    "#             records=1\n",
    "#             sets=sets+1\n",
    "#         else:\n",
    "#             records=records+1\n",
    "#     else:\n",
    "#         #skips city if not found, and prints  to log\n",
    "#         print(\"City not found. Skipping...\")\n",
    "#     next\n",
    "# print(\"-----------------------------\")\n",
    "# print(\"Data Retrieval Complete\")\n",
    "# print(\"-----------------------------\")"
   ]
  },
  {
   "cell_type": "code",
   "execution_count": null,
   "metadata": {},
   "outputs": [],
   "source": []
  },
  {
   "cell_type": "code",
   "execution_count": null,
   "metadata": {},
   "outputs": [],
   "source": [
    "all_df = pd.DataFrame({\"Lat\": lat,\n",
    "             \"Temp\": temp,\n",
    "             \"Humidity\": humidity,\n",
    "             \"Cloudiness\": cloudiness,\n",
    "             \"Windspeed\": windspeed})\n",
    "all_df\n",
    "\n",
    "# all_df = {\"Lat\": lat,\n",
    "#              \"Temp\": temp,\n",
    "#              \"Humidity\": humidity,\n",
    "#              \"Cloudiness\": cloudiness,\n",
    "#              \"Windspeed\": windspeed}\n",
    "# all_df = pd.DataFrame(all_df)\n",
    "\n",
    "\n",
    "# df = pd.read_csv(\"weather_data.csv\", names=['lat', 'temp', 'humidity', 'cloudiness', 'windspeed'])\n",
    "# df = pd.DataFrame({\"Lat\": lat,\n",
    "#              \"Temp\": temp,\n",
    "#              \"Humidity\": humidity,\n",
    "#              \"Cloudiness\": cloudiness,\n",
    "#              \"Windspeed\": windspeed})\n",
    "\n",
    "all_df.to_csv('city_weather_data.csv')\n",
    "\n",
    "all_df.head()"
   ]
  },
  {
   "cell_type": "code",
   "execution_count": null,
   "metadata": {},
   "outputs": [],
   "source": [
    "#This Should be all Atributes vs latitude but i dont have any data...\n",
    "plt.scatter(lat, temp,c ='r', label='Temp F')\n",
    "plt.scatter(lat, humidity, c ='b', label='Humidity')\n",
    "plt.scatter(lat, windspeed, c ='g', label='Wind Speed')\n",
    "plt.scatter(lat, cloudiness, c = 'purple', label = 'Cloudiness')\n",
    "plt.legend(loc='lower right')\n",
    "plt.title('Weather attributes VS Latitude')\n",
    "plt.xlabel('Latitude')\n",
    "plt.ylabel('Weather Value')\n",
    "plt.show()"
   ]
  },
  {
   "cell_type": "markdown",
   "metadata": {},
   "source": [
    "#### Latitude vs. Temperature Plot"
   ]
  },
  {
   "cell_type": "code",
   "execution_count": null,
   "metadata": {},
   "outputs": [],
   "source": [
    "plt.scatter(lat,temp,c ='r', label='Temp F')\n",
    "plt.legend(loc='lower left')\n",
    "plt.title('Temperatur VS Latitude')\n",
    "plt.xlabel('Latitude')\n",
    "plt.ylabel('Temp in F')\n",
    "plt.savefig('Graph_Images/temp.png')\n",
    "plt.show()"
   ]
  },
  {
   "cell_type": "markdown",
   "metadata": {},
   "source": [
    "#### Latitude vs. Humidity Plot"
   ]
  },
  {
   "cell_type": "code",
   "execution_count": null,
   "metadata": {},
   "outputs": [],
   "source": [
    "plt.scatter(lat,humidity,c ='b', label='Humidity')\n",
    "plt.legend(loc='lower left')\n",
    "plt.title('Humidity VS Latitude')\n",
    "plt.xlabel('Latitude')\n",
    "plt.ylabel('% Humidity')\n",
    "plt.savefig('Graph_Images/humidity.png')\n",
    "plt.show()"
   ]
  },
  {
   "cell_type": "markdown",
   "metadata": {},
   "source": [
    "#### Latitude vs. Cloudiness Plot"
   ]
  },
  {
   "cell_type": "code",
   "execution_count": null,
   "metadata": {},
   "outputs": [],
   "source": [
    "#Compare by Cloudiness\n",
    "plt.scatter(lat,cloudiness,c ='purple', label='Cloudiness')\n",
    "plt.legend(loc='lower left')\n",
    "plt.title('Cloudiness VS Latitude')\n",
    "plt.xlabel('Latitude')\n",
    "plt.ylabel('% Cloudiness')\n",
    "plt.savefig('Graph_Images/cloudiness.png')\n",
    "plt.show()"
   ]
  },
  {
   "cell_type": "markdown",
   "metadata": {},
   "source": [
    "#### Latitude vs. Wind Speed Plot"
   ]
  },
  {
   "cell_type": "code",
   "execution_count": null,
   "metadata": {},
   "outputs": [],
   "source": [
    "#Compare by Windspeed\n",
    "plt.scatter(lat,windspeed,c ='g', label='Wind Speed')\n",
    "plt.legend(loc='lower left')\n",
    "plt.title('Windspeed VS Latitude')\n",
    "plt.xlabel('Latitude')\n",
    "plt.ylabel('Windspeed MPS')\n",
    "plt.savefig('Graph_Images/windspeed.png')\n",
    "plt.show()"
   ]
  },
  {
   "cell_type": "code",
   "execution_count": null,
   "metadata": {},
   "outputs": [],
   "source": []
  }
 ],
 "metadata": {
  "anaconda-cloud": {},
  "kernelspec": {
   "display_name": "Python 3",
   "language": "python",
   "name": "python3"
  },
  "language_info": {
   "codemirror_mode": {
    "name": "ipython",
    "version": 3
   },
   "file_extension": ".py",
   "mimetype": "text/x-python",
   "name": "python",
   "nbconvert_exporter": "python",
   "pygments_lexer": "ipython3",
   "version": "3.7.1"
  }
 },
 "nbformat": 4,
 "nbformat_minor": 2
}
